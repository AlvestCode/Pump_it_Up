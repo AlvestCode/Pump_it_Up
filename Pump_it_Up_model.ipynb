{
 "cells": [
  {
   "cell_type": "markdown",
   "metadata": {},
   "source": [
    "<h1 style=\"text-align:center\">\n",
    "    Pump it Up: Data Mining the Water Table\n",
    "</h1>"
   ]
  },
  {
   "cell_type": "markdown",
   "metadata": {},
   "source": [
    "# Import packages"
   ]
  },
  {
   "cell_type": "code",
   "execution_count": 1,
   "metadata": {},
   "outputs": [],
   "source": [
    "import pickle\n",
    "import pandas as pd \n",
    "import matplotlib.pyplot as plt\n",
    "from sklearn.metrics import accuracy_score\n",
    "from sklearn.model_selection import GridSearchCV\n",
    "from sklearn.ensemble import RandomForestClassifier"
   ]
  },
  {
   "cell_type": "markdown",
   "metadata": {},
   "source": [
    "# Data load"
   ]
  },
  {
   "cell_type": "code",
   "execution_count": 2,
   "metadata": {},
   "outputs": [],
   "source": [
    "# Target \n",
    "target = pd.read_csv(\"train_target.csv\")\n",
    "\n",
    "# Target values replace \n",
    "target = target.replace({'status_group': {'functional' : 1, \n",
    "                                          'non functional' : 0, \n",
    "                                          'functional needs repair' : 2}})\n",
    "\n",
    "# Values \n",
    "values = pd.read_csv(\"train_values.csv\")\n",
    "\n",
    "test = pd.read_csv(\"test_values.csv\")\n",
    "\n",
    "# Values and target merge  \n",
    "data = values.merge(target, on = 'id')\n",
    "data.set_index(['id'], inplace = True)\n",
    "\n",
    "ID = test['id']\n",
    "test.set_index(['id'], inplace = True)"
   ]
  },
  {
   "cell_type": "markdown",
   "metadata": {},
   "source": [
    "# EDA"
   ]
  },
  {
   "cell_type": "code",
   "execution_count": 3,
   "metadata": {},
   "outputs": [
    {
     "data": {
      "text/html": [
       "<div>\n",
       "<style scoped>\n",
       "    .dataframe tbody tr th:only-of-type {\n",
       "        vertical-align: middle;\n",
       "    }\n",
       "\n",
       "    .dataframe tbody tr th {\n",
       "        vertical-align: top;\n",
       "    }\n",
       "\n",
       "    .dataframe thead th {\n",
       "        text-align: right;\n",
       "    }\n",
       "</style>\n",
       "<table border=\"1\" class=\"dataframe\">\n",
       "  <thead>\n",
       "    <tr style=\"text-align: right;\">\n",
       "      <th></th>\n",
       "      <th>amount_tsh</th>\n",
       "      <th>gps_height</th>\n",
       "      <th>longitude</th>\n",
       "      <th>latitude</th>\n",
       "      <th>num_private</th>\n",
       "      <th>region_code</th>\n",
       "      <th>district_code</th>\n",
       "      <th>population</th>\n",
       "      <th>construction_year</th>\n",
       "      <th>status_group</th>\n",
       "    </tr>\n",
       "  </thead>\n",
       "  <tbody>\n",
       "    <tr>\n",
       "      <th>count</th>\n",
       "      <td>59400.000000</td>\n",
       "      <td>59400.000000</td>\n",
       "      <td>59400.000000</td>\n",
       "      <td>5.940000e+04</td>\n",
       "      <td>59400.000000</td>\n",
       "      <td>59400.000000</td>\n",
       "      <td>59400.000000</td>\n",
       "      <td>59400.000000</td>\n",
       "      <td>59400.000000</td>\n",
       "      <td>59400.000000</td>\n",
       "    </tr>\n",
       "    <tr>\n",
       "      <th>mean</th>\n",
       "      <td>317.650385</td>\n",
       "      <td>668.297239</td>\n",
       "      <td>34.077427</td>\n",
       "      <td>-5.706033e+00</td>\n",
       "      <td>0.474141</td>\n",
       "      <td>15.297003</td>\n",
       "      <td>5.629747</td>\n",
       "      <td>179.909983</td>\n",
       "      <td>1300.652475</td>\n",
       "      <td>0.688434</td>\n",
       "    </tr>\n",
       "    <tr>\n",
       "      <th>std</th>\n",
       "      <td>2997.574558</td>\n",
       "      <td>693.116350</td>\n",
       "      <td>6.567432</td>\n",
       "      <td>2.946019e+00</td>\n",
       "      <td>12.236230</td>\n",
       "      <td>17.587406</td>\n",
       "      <td>9.633649</td>\n",
       "      <td>471.482176</td>\n",
       "      <td>951.620547</td>\n",
       "      <td>0.599877</td>\n",
       "    </tr>\n",
       "    <tr>\n",
       "      <th>min</th>\n",
       "      <td>0.000000</td>\n",
       "      <td>-90.000000</td>\n",
       "      <td>0.000000</td>\n",
       "      <td>-1.164944e+01</td>\n",
       "      <td>0.000000</td>\n",
       "      <td>1.000000</td>\n",
       "      <td>0.000000</td>\n",
       "      <td>0.000000</td>\n",
       "      <td>0.000000</td>\n",
       "      <td>0.000000</td>\n",
       "    </tr>\n",
       "    <tr>\n",
       "      <th>25%</th>\n",
       "      <td>0.000000</td>\n",
       "      <td>0.000000</td>\n",
       "      <td>33.090347</td>\n",
       "      <td>-8.540621e+00</td>\n",
       "      <td>0.000000</td>\n",
       "      <td>5.000000</td>\n",
       "      <td>2.000000</td>\n",
       "      <td>0.000000</td>\n",
       "      <td>0.000000</td>\n",
       "      <td>0.000000</td>\n",
       "    </tr>\n",
       "    <tr>\n",
       "      <th>50%</th>\n",
       "      <td>0.000000</td>\n",
       "      <td>369.000000</td>\n",
       "      <td>34.908743</td>\n",
       "      <td>-5.021597e+00</td>\n",
       "      <td>0.000000</td>\n",
       "      <td>12.000000</td>\n",
       "      <td>3.000000</td>\n",
       "      <td>25.000000</td>\n",
       "      <td>1986.000000</td>\n",
       "      <td>1.000000</td>\n",
       "    </tr>\n",
       "    <tr>\n",
       "      <th>75%</th>\n",
       "      <td>20.000000</td>\n",
       "      <td>1319.250000</td>\n",
       "      <td>37.178387</td>\n",
       "      <td>-3.326156e+00</td>\n",
       "      <td>0.000000</td>\n",
       "      <td>17.000000</td>\n",
       "      <td>5.000000</td>\n",
       "      <td>215.000000</td>\n",
       "      <td>2004.000000</td>\n",
       "      <td>1.000000</td>\n",
       "    </tr>\n",
       "    <tr>\n",
       "      <th>max</th>\n",
       "      <td>350000.000000</td>\n",
       "      <td>2770.000000</td>\n",
       "      <td>40.345193</td>\n",
       "      <td>-2.000000e-08</td>\n",
       "      <td>1776.000000</td>\n",
       "      <td>99.000000</td>\n",
       "      <td>80.000000</td>\n",
       "      <td>30500.000000</td>\n",
       "      <td>2013.000000</td>\n",
       "      <td>2.000000</td>\n",
       "    </tr>\n",
       "  </tbody>\n",
       "</table>\n",
       "</div>"
      ],
      "text/plain": [
       "          amount_tsh    gps_height     longitude      latitude   num_private  \\\n",
       "count   59400.000000  59400.000000  59400.000000  5.940000e+04  59400.000000   \n",
       "mean      317.650385    668.297239     34.077427 -5.706033e+00      0.474141   \n",
       "std      2997.574558    693.116350      6.567432  2.946019e+00     12.236230   \n",
       "min         0.000000    -90.000000      0.000000 -1.164944e+01      0.000000   \n",
       "25%         0.000000      0.000000     33.090347 -8.540621e+00      0.000000   \n",
       "50%         0.000000    369.000000     34.908743 -5.021597e+00      0.000000   \n",
       "75%        20.000000   1319.250000     37.178387 -3.326156e+00      0.000000   \n",
       "max    350000.000000   2770.000000     40.345193 -2.000000e-08   1776.000000   \n",
       "\n",
       "        region_code  district_code    population  construction_year  \\\n",
       "count  59400.000000   59400.000000  59400.000000       59400.000000   \n",
       "mean      15.297003       5.629747    179.909983        1300.652475   \n",
       "std       17.587406       9.633649    471.482176         951.620547   \n",
       "min        1.000000       0.000000      0.000000           0.000000   \n",
       "25%        5.000000       2.000000      0.000000           0.000000   \n",
       "50%       12.000000       3.000000     25.000000        1986.000000   \n",
       "75%       17.000000       5.000000    215.000000        2004.000000   \n",
       "max       99.000000      80.000000  30500.000000        2013.000000   \n",
       "\n",
       "       status_group  \n",
       "count  59400.000000  \n",
       "mean       0.688434  \n",
       "std        0.599877  \n",
       "min        0.000000  \n",
       "25%        0.000000  \n",
       "50%        1.000000  \n",
       "75%        1.000000  \n",
       "max        2.000000  "
      ]
     },
     "execution_count": 3,
     "metadata": {},
     "output_type": "execute_result"
    }
   ],
   "source": [
    "data.describe()"
   ]
  },
  {
   "cell_type": "code",
   "execution_count": 4,
   "metadata": {},
   "outputs": [
    {
     "data": {
      "text/html": [
       "<div>\n",
       "<style scoped>\n",
       "    .dataframe tbody tr th:only-of-type {\n",
       "        vertical-align: middle;\n",
       "    }\n",
       "\n",
       "    .dataframe tbody tr th {\n",
       "        vertical-align: top;\n",
       "    }\n",
       "\n",
       "    .dataframe thead th {\n",
       "        text-align: right;\n",
       "    }\n",
       "</style>\n",
       "<table border=\"1\" class=\"dataframe\">\n",
       "  <thead>\n",
       "    <tr style=\"text-align: right;\">\n",
       "      <th></th>\n",
       "      <th>amount_tsh</th>\n",
       "      <th>gps_height</th>\n",
       "      <th>longitude</th>\n",
       "      <th>latitude</th>\n",
       "      <th>num_private</th>\n",
       "      <th>region_code</th>\n",
       "      <th>district_code</th>\n",
       "      <th>population</th>\n",
       "      <th>construction_year</th>\n",
       "    </tr>\n",
       "  </thead>\n",
       "  <tbody>\n",
       "    <tr>\n",
       "      <th>count</th>\n",
       "      <td>14850.000000</td>\n",
       "      <td>14850.000000</td>\n",
       "      <td>14850.000000</td>\n",
       "      <td>1.485000e+04</td>\n",
       "      <td>14850.000000</td>\n",
       "      <td>14850.000000</td>\n",
       "      <td>14850.000000</td>\n",
       "      <td>14850.000000</td>\n",
       "      <td>14850.000000</td>\n",
       "    </tr>\n",
       "    <tr>\n",
       "      <th>mean</th>\n",
       "      <td>322.826983</td>\n",
       "      <td>655.147609</td>\n",
       "      <td>34.061605</td>\n",
       "      <td>-5.684724e+00</td>\n",
       "      <td>0.415084</td>\n",
       "      <td>15.139057</td>\n",
       "      <td>5.626397</td>\n",
       "      <td>184.114209</td>\n",
       "      <td>1289.708350</td>\n",
       "    </tr>\n",
       "    <tr>\n",
       "      <th>std</th>\n",
       "      <td>2510.968644</td>\n",
       "      <td>691.261185</td>\n",
       "      <td>6.593034</td>\n",
       "      <td>2.940803e+00</td>\n",
       "      <td>8.167910</td>\n",
       "      <td>17.191329</td>\n",
       "      <td>9.673842</td>\n",
       "      <td>469.499332</td>\n",
       "      <td>955.241087</td>\n",
       "    </tr>\n",
       "    <tr>\n",
       "      <th>min</th>\n",
       "      <td>0.000000</td>\n",
       "      <td>-57.000000</td>\n",
       "      <td>0.000000</td>\n",
       "      <td>-1.156459e+01</td>\n",
       "      <td>0.000000</td>\n",
       "      <td>1.000000</td>\n",
       "      <td>0.000000</td>\n",
       "      <td>0.000000</td>\n",
       "      <td>0.000000</td>\n",
       "    </tr>\n",
       "    <tr>\n",
       "      <th>25%</th>\n",
       "      <td>0.000000</td>\n",
       "      <td>0.000000</td>\n",
       "      <td>33.069455</td>\n",
       "      <td>-8.443970e+00</td>\n",
       "      <td>0.000000</td>\n",
       "      <td>5.000000</td>\n",
       "      <td>2.000000</td>\n",
       "      <td>0.000000</td>\n",
       "      <td>0.000000</td>\n",
       "    </tr>\n",
       "    <tr>\n",
       "      <th>50%</th>\n",
       "      <td>0.000000</td>\n",
       "      <td>344.000000</td>\n",
       "      <td>34.901215</td>\n",
       "      <td>-5.049750e+00</td>\n",
       "      <td>0.000000</td>\n",
       "      <td>12.000000</td>\n",
       "      <td>3.000000</td>\n",
       "      <td>20.000000</td>\n",
       "      <td>1986.000000</td>\n",
       "    </tr>\n",
       "    <tr>\n",
       "      <th>75%</th>\n",
       "      <td>25.000000</td>\n",
       "      <td>1308.000000</td>\n",
       "      <td>37.196594</td>\n",
       "      <td>-3.320594e+00</td>\n",
       "      <td>0.000000</td>\n",
       "      <td>17.000000</td>\n",
       "      <td>5.000000</td>\n",
       "      <td>220.000000</td>\n",
       "      <td>2004.000000</td>\n",
       "    </tr>\n",
       "    <tr>\n",
       "      <th>max</th>\n",
       "      <td>200000.000000</td>\n",
       "      <td>2777.000000</td>\n",
       "      <td>40.325016</td>\n",
       "      <td>-2.000000e-08</td>\n",
       "      <td>669.000000</td>\n",
       "      <td>99.000000</td>\n",
       "      <td>80.000000</td>\n",
       "      <td>11469.000000</td>\n",
       "      <td>2013.000000</td>\n",
       "    </tr>\n",
       "  </tbody>\n",
       "</table>\n",
       "</div>"
      ],
      "text/plain": [
       "          amount_tsh    gps_height     longitude      latitude   num_private  \\\n",
       "count   14850.000000  14850.000000  14850.000000  1.485000e+04  14850.000000   \n",
       "mean      322.826983    655.147609     34.061605 -5.684724e+00      0.415084   \n",
       "std      2510.968644    691.261185      6.593034  2.940803e+00      8.167910   \n",
       "min         0.000000    -57.000000      0.000000 -1.156459e+01      0.000000   \n",
       "25%         0.000000      0.000000     33.069455 -8.443970e+00      0.000000   \n",
       "50%         0.000000    344.000000     34.901215 -5.049750e+00      0.000000   \n",
       "75%        25.000000   1308.000000     37.196594 -3.320594e+00      0.000000   \n",
       "max    200000.000000   2777.000000     40.325016 -2.000000e-08    669.000000   \n",
       "\n",
       "        region_code  district_code    population  construction_year  \n",
       "count  14850.000000   14850.000000  14850.000000       14850.000000  \n",
       "mean      15.139057       5.626397    184.114209        1289.708350  \n",
       "std       17.191329       9.673842    469.499332         955.241087  \n",
       "min        1.000000       0.000000      0.000000           0.000000  \n",
       "25%        5.000000       2.000000      0.000000           0.000000  \n",
       "50%       12.000000       3.000000     20.000000        1986.000000  \n",
       "75%       17.000000       5.000000    220.000000        2004.000000  \n",
       "max       99.000000      80.000000  11469.000000        2013.000000  "
      ]
     },
     "execution_count": 4,
     "metadata": {},
     "output_type": "execute_result"
    }
   ],
   "source": [
    "test.describe()"
   ]
  },
  {
   "cell_type": "code",
   "execution_count": 5,
   "metadata": {},
   "outputs": [
    {
     "data": {
      "text/plain": [
       "amount_tsh                  0\n",
       "date_recorded               0\n",
       "funder                    869\n",
       "gps_height                  0\n",
       "installer                 877\n",
       "longitude                   0\n",
       "latitude                    0\n",
       "wpt_name                    0\n",
       "num_private                 0\n",
       "basin                       0\n",
       "subvillage                 99\n",
       "region                      0\n",
       "region_code                 0\n",
       "district_code               0\n",
       "lga                         0\n",
       "ward                        0\n",
       "population                  0\n",
       "public_meeting            821\n",
       "recorded_by                 0\n",
       "scheme_management         969\n",
       "scheme_name              7092\n",
       "permit                    737\n",
       "construction_year           0\n",
       "extraction_type             0\n",
       "extraction_type_group       0\n",
       "extraction_type_class       0\n",
       "management                  0\n",
       "management_group            0\n",
       "payment                     0\n",
       "payment_type                0\n",
       "water_quality               0\n",
       "quality_group               0\n",
       "quantity                    0\n",
       "quantity_group              0\n",
       "source                      0\n",
       "source_type                 0\n",
       "source_class                0\n",
       "waterpoint_type             0\n",
       "waterpoint_type_group       0\n",
       "dtype: int64"
      ]
     },
     "execution_count": 5,
     "metadata": {},
     "output_type": "execute_result"
    }
   ],
   "source": [
    "test.isna().sum()"
   ]
  },
  {
   "cell_type": "code",
   "execution_count": 6,
   "metadata": {},
   "outputs": [
    {
     "data": {
      "text/plain": [
       "amount_tsh               float64\n",
       "date_recorded             object\n",
       "funder                    object\n",
       "gps_height                 int64\n",
       "installer                 object\n",
       "longitude                float64\n",
       "latitude                 float64\n",
       "wpt_name                  object\n",
       "num_private                int64\n",
       "basin                     object\n",
       "subvillage                object\n",
       "region                    object\n",
       "region_code                int64\n",
       "district_code              int64\n",
       "lga                       object\n",
       "ward                      object\n",
       "population                 int64\n",
       "public_meeting            object\n",
       "recorded_by               object\n",
       "scheme_management         object\n",
       "scheme_name               object\n",
       "permit                    object\n",
       "construction_year          int64\n",
       "extraction_type           object\n",
       "extraction_type_group     object\n",
       "extraction_type_class     object\n",
       "management                object\n",
       "management_group          object\n",
       "payment                   object\n",
       "payment_type              object\n",
       "water_quality             object\n",
       "quality_group             object\n",
       "quantity                  object\n",
       "quantity_group            object\n",
       "source                    object\n",
       "source_type               object\n",
       "source_class              object\n",
       "waterpoint_type           object\n",
       "waterpoint_type_group     object\n",
       "status_group               int64\n",
       "dtype: object"
      ]
     },
     "execution_count": 6,
     "metadata": {},
     "output_type": "execute_result"
    }
   ],
   "source": [
    "data.dtypes"
   ]
  },
  {
   "cell_type": "code",
   "execution_count": 7,
   "metadata": {},
   "outputs": [
    {
     "data": {
      "text/plain": [
       "GeoData Consultants Ltd    59400\n",
       "Name: recorded_by, dtype: int64"
      ]
     },
     "execution_count": 7,
     "metadata": {},
     "output_type": "execute_result"
    }
   ],
   "source": [
    "data.recorded_by.value_counts()"
   ]
  },
  {
   "cell_type": "code",
   "execution_count": 8,
   "metadata": {},
   "outputs": [
    {
     "name": "stdout",
     "output_type": "stream",
     "text": [
      "gravity: ['gravity']\n",
      "submersible: ['submersible' 'ksb']\n",
      "swn 80: ['swn 80']\n",
      "nira/tanira: ['nira/tanira']\n",
      "india mark ii: ['india mark ii']\n",
      "other: ['other']\n",
      "mono: ['mono']\n",
      "wind-powered: ['windmill']\n",
      "afridev: ['afridev']\n",
      "rope pump: ['other - rope pump']\n",
      "india mark iii: ['india mark iii']\n",
      "other handpump: ['other - swn 81' 'other - play pump' 'walimi' 'other - mkulima/shinyanga']\n",
      "other motorpump: ['cemo' 'climax']\n"
     ]
    }
   ],
   "source": [
    "for code in data.extraction_type_group.unique():\n",
    "    print(code + ': ' + str(data[data['extraction_type_group'] == code]['extraction_type'].unique()))"
   ]
  },
  {
   "cell_type": "code",
   "execution_count": 9,
   "metadata": {},
   "outputs": [
    {
     "name": "stdout",
     "output_type": "stream",
     "text": [
      "gravity: ['gravity']\n",
      "submersible: ['submersible']\n",
      "handpump: ['swn 80' 'nira/tanira' 'india mark ii' 'afridev' 'india mark iii'\n",
      " 'other handpump']\n",
      "other: ['other']\n",
      "motorpump: ['mono' 'other motorpump']\n",
      "wind-powered: ['wind-powered']\n",
      "rope pump: ['rope pump']\n"
     ]
    }
   ],
   "source": [
    "for code in data.extraction_type_class.unique():\n",
    "    print(code + ': ' + str(data[data['extraction_type_class'] == code]['extraction_type_group'].unique()))"
   ]
  },
  {
   "cell_type": "code",
   "execution_count": 10,
   "metadata": {},
   "outputs": [
    {
     "name": "stdout",
     "output_type": "stream",
     "text": [
      "user-group: ['vwc' 'wug' 'water board' 'wua']\n",
      "other: ['other' 'other - school']\n",
      "commercial: ['private operator' 'company' 'water authority' 'trust']\n",
      "parastatal: ['parastatal']\n",
      "unknown: ['unknown']\n"
     ]
    }
   ],
   "source": [
    "for code in data.management_group.unique():\n",
    "    print(code + ': ' + str(data[data['management_group'] == code]['management'].unique()))"
   ]
  },
  {
   "cell_type": "code",
   "execution_count": 11,
   "metadata": {},
   "outputs": [
    {
     "name": "stdout",
     "output_type": "stream",
     "text": [
      "annually: ['pay annually']\n",
      "never pay: ['never pay']\n",
      "per bucket: ['pay per bucket']\n",
      "unknown: ['unknown']\n",
      "on failure: ['pay when scheme fails']\n",
      "other: ['other']\n",
      "monthly: ['pay monthly']\n"
     ]
    }
   ],
   "source": [
    "for code in data.payment_type.unique():\n",
    "    print(code + ': ' + str(data[data['payment_type'] == code]['payment'].unique()))"
   ]
  },
  {
   "cell_type": "code",
   "execution_count": 12,
   "metadata": {},
   "outputs": [
    {
     "name": "stdout",
     "output_type": "stream",
     "text": [
      "good: ['soft']\n",
      "salty: ['salty' 'salty abandoned']\n",
      "milky: ['milky']\n",
      "unknown: ['unknown']\n",
      "fluoride: ['fluoride' 'fluoride abandoned']\n",
      "colored: ['coloured']\n"
     ]
    }
   ],
   "source": [
    "for code in data.quality_group.unique():\n",
    "    print(code + ': ' + str(data[data['quality_group'] == code]['water_quality'].unique()))"
   ]
  },
  {
   "cell_type": "code",
   "execution_count": 13,
   "metadata": {},
   "outputs": [
    {
     "name": "stdout",
     "output_type": "stream",
     "text": [
      "enough: ['enough']\n",
      "insufficient: ['insufficient']\n",
      "dry: ['dry']\n",
      "seasonal: ['seasonal']\n",
      "unknown: ['unknown']\n"
     ]
    }
   ],
   "source": [
    "for code in data.quantity_group.unique():\n",
    "    print(code + ': ' + str(data[data['quantity_group'] == code]['quantity'].unique()))"
   ]
  },
  {
   "cell_type": "code",
   "execution_count": 14,
   "metadata": {},
   "outputs": [
    {
     "name": "stdout",
     "output_type": "stream",
     "text": [
      "spring: ['spring']\n",
      "rainwater harvesting: ['rainwater harvesting']\n",
      "dam: ['dam']\n",
      "borehole: ['machine dbh' 'hand dtw']\n",
      "other: ['other' 'unknown']\n",
      "shallow well: ['shallow well']\n",
      "river/lake: ['river' 'lake']\n"
     ]
    }
   ],
   "source": [
    "for code in data.source_type.unique():\n",
    "    print(code + ': ' + str(data[data['source_type'] == code]['source'].unique()))"
   ]
  },
  {
   "cell_type": "code",
   "execution_count": 15,
   "metadata": {},
   "outputs": [
    {
     "name": "stdout",
     "output_type": "stream",
     "text": [
      "groundwater: ['spring' 'borehole' 'shallow well']\n",
      "surface: ['rainwater harvesting' 'dam' 'river/lake']\n",
      "unknown: ['other']\n"
     ]
    }
   ],
   "source": [
    "for code in data.source_class.unique():\n",
    "    print(code + ': ' + str(data[data['source_class'] == code]['source_type'].unique()))"
   ]
  },
  {
   "cell_type": "code",
   "execution_count": 16,
   "metadata": {},
   "outputs": [
    {
     "name": "stdout",
     "output_type": "stream",
     "text": [
      "communal standpipe: ['communal standpipe' 'communal standpipe multiple']\n",
      "hand pump: ['hand pump']\n",
      "other: ['other']\n",
      "improved spring: ['improved spring']\n",
      "cattle trough: ['cattle trough']\n",
      "dam: ['dam']\n"
     ]
    }
   ],
   "source": [
    "for code in data.waterpoint_type_group.unique():\n",
    "    print(code + ': ' + str(data[data['waterpoint_type_group'] == code]['waterpoint_type'].unique()))"
   ]
  },
  {
   "cell_type": "markdown",
   "metadata": {},
   "source": [
    "# Feature Engineering"
   ]
  },
  {
   "cell_type": "code",
   "execution_count": 17,
   "metadata": {},
   "outputs": [],
   "source": [
    "data['funder'] = data['funder'].fillna('Missing')\n",
    "test['funder'] = test['funder'].fillna('Missing')\n",
    "\n",
    "chars = []\n",
    "for fund in data.funder:\n",
    "    if fund not in chars:\n",
    "        chars.append(fund)\n",
    "\n",
    "for fun in test.funder:\n",
    "        if fun not in chars:\n",
    "            chars.append(fun)\n",
    "            \n",
    "equi = {}\n",
    "num = 1 \n",
    "for char in chars: \n",
    "    equi[char] = num\n",
    "    num += 1\n",
    "    \n",
    "funders = []\n",
    "for fund in data.funder:\n",
    "    word = str(equi[fund])\n",
    "    funders.append(word)\n",
    "    \n",
    "fundors = []\n",
    "for fund in test.funder:\n",
    "    word = str(equi[fund])\n",
    "    fundors.append(word)\n",
    "    \n",
    "data['funder'] = pd.Series([int(num) for num in funders],index = data.index).astype('int')\n",
    "test['funder'] = pd.Series([int(num) for num in fundors],index = test.index).astype('int')"
   ]
  },
  {
   "cell_type": "code",
   "execution_count": 18,
   "metadata": {},
   "outputs": [],
   "source": [
    "data['y_recorded'] = [int(anno.split('-')[0]) for anno in data['date_recorded']]\n",
    "data['m_recorded'] = [int(mes.split('-')[1]) for mes in data['date_recorded']]\n",
    "data['d_recorded'] = [int(dia.split('-')[2]) for dia in data['date_recorded']]\n",
    "\n",
    "test['y_recorded'] = [int(anno.split('-')[0]) for anno in test['date_recorded']]\n",
    "test['m_recorded'] = [int(mes.split('-')[1]) for mes in test['date_recorded']]\n",
    "test['d_recorded'] = [int(dia.split('-')[2]) for dia in test['date_recorded']]\n",
    "\n",
    "y = data['status_group']\n",
    "\n",
    "to_drop = ['date_recorded', 'recorded_by', 'extraction_type_group', 'extraction_type_class', 'management_group', 'payment_type',\n",
    "           'quality_group', 'quantity_group', 'source_type', 'source_class', 'waterpoint_type_group', 'status_group']\n",
    "\n",
    "to_drop = ['installer', 'wpt_name', 'scheme_management','subvillage', 'lga', 'ward', 'basin', 'scheme_name', 'payment', \n",
    "           'management', 'waterpoint_type_group'] + to_drop\n",
    "\n",
    "data.drop(columns = to_drop, inplace =True)\n",
    "test.drop(columns = to_drop[:-1], inplace =True)"
   ]
  },
  {
   "cell_type": "code",
   "execution_count": 19,
   "metadata": {},
   "outputs": [],
   "source": [
    "# One Hot Encoding with get_dummy \n",
    "data = pd.get_dummies(data)\n",
    "test = pd.get_dummies(test)"
   ]
  },
  {
   "cell_type": "code",
   "execution_count": 20,
   "metadata": {},
   "outputs": [],
   "source": [
    "data.drop(columns = 'extraction_type_other - mkulima/shinyanga', inplace =True)"
   ]
  },
  {
   "cell_type": "markdown",
   "metadata": {},
   "source": [
    "## Grid"
   ]
  },
  {
   "cell_type": "code",
   "execution_count": 27,
   "metadata": {},
   "outputs": [],
   "source": [
    "grid_param = {\n",
    "    'n_estimators': [100, 300, 500, 800, 1000],\n",
    "    'criterion': ['gini', 'entropy'],\n",
    "    'bootstrap': [True, False]\n",
    "}"
   ]
  },
  {
   "cell_type": "code",
   "execution_count": 28,
   "metadata": {},
   "outputs": [],
   "source": [
    "model_grid = GridSearchCV(estimator = RandomForestClassifier(),\n",
    "                     param_grid = grid_param,\n",
    "                     scoring = 'accuracy',\n",
    "                     n_jobs = -1,\n",
    "                     cv = 5)"
   ]
  },
  {
   "cell_type": "code",
   "execution_count": 29,
   "metadata": {},
   "outputs": [
    {
     "data": {
      "text/plain": [
       "GridSearchCV(cv=5, estimator=RandomForestClassifier(), n_jobs=-1,\n",
       "             param_grid={'bootstrap': [True, False],\n",
       "                         'criterion': ['gini', 'entropy'],\n",
       "                         'n_estimators': [100, 300, 500, 800, 1000]},\n",
       "             scoring='accuracy')"
      ]
     },
     "execution_count": 29,
     "metadata": {},
     "output_type": "execute_result"
    }
   ],
   "source": [
    "model_grid.fit(data, y)"
   ]
  },
  {
   "cell_type": "code",
   "execution_count": 30,
   "metadata": {},
   "outputs": [
    {
     "name": "stdout",
     "output_type": "stream",
     "text": [
      "{'bootstrap': True, 'criterion': 'entropy', 'n_estimators': 500}\n"
     ]
    }
   ],
   "source": [
    "print(model_grid.best_params_)"
   ]
  },
  {
   "cell_type": "code",
   "execution_count": 31,
   "metadata": {},
   "outputs": [
    {
     "name": "stdout",
     "output_type": "stream",
     "text": [
      "0.8075084175084175\n"
     ]
    }
   ],
   "source": [
    "print(model_grid.best_score_)"
   ]
  },
  {
   "cell_type": "markdown",
   "metadata": {},
   "source": [
    "# Model Training"
   ]
  },
  {
   "cell_type": "code",
   "execution_count": 21,
   "metadata": {},
   "outputs": [
    {
     "data": {
      "text/plain": [
       "RandomForestClassifier(criterion='entropy', n_estimators=800)"
      ]
     },
     "execution_count": 21,
     "metadata": {},
     "output_type": "execute_result"
    }
   ],
   "source": [
    "model = RandomForestClassifier(bootstrap =  True, criterion = 'entropy', n_estimators = 800)\n",
    "model.fit(data, y)"
   ]
  },
  {
   "cell_type": "markdown",
   "metadata": {},
   "source": [
    "# Prediciones"
   ]
  },
  {
   "cell_type": "code",
   "execution_count": 23,
   "metadata": {},
   "outputs": [],
   "source": [
    "final_preds = model.predict(test)"
   ]
  },
  {
   "cell_type": "code",
   "execution_count": 24,
   "metadata": {},
   "outputs": [
    {
     "data": {
      "text/html": [
       "<div>\n",
       "<style scoped>\n",
       "    .dataframe tbody tr th:only-of-type {\n",
       "        vertical-align: middle;\n",
       "    }\n",
       "\n",
       "    .dataframe tbody tr th {\n",
       "        vertical-align: top;\n",
       "    }\n",
       "\n",
       "    .dataframe thead th {\n",
       "        text-align: right;\n",
       "    }\n",
       "</style>\n",
       "<table border=\"1\" class=\"dataframe\">\n",
       "  <thead>\n",
       "    <tr style=\"text-align: right;\">\n",
       "      <th></th>\n",
       "      <th>id</th>\n",
       "      <th>status_group</th>\n",
       "    </tr>\n",
       "  </thead>\n",
       "  <tbody>\n",
       "    <tr>\n",
       "      <th>0</th>\n",
       "      <td>50785</td>\n",
       "      <td>non functional</td>\n",
       "    </tr>\n",
       "    <tr>\n",
       "      <th>1</th>\n",
       "      <td>51630</td>\n",
       "      <td>functional</td>\n",
       "    </tr>\n",
       "    <tr>\n",
       "      <th>2</th>\n",
       "      <td>17168</td>\n",
       "      <td>functional</td>\n",
       "    </tr>\n",
       "    <tr>\n",
       "      <th>3</th>\n",
       "      <td>45559</td>\n",
       "      <td>non functional</td>\n",
       "    </tr>\n",
       "    <tr>\n",
       "      <th>4</th>\n",
       "      <td>49871</td>\n",
       "      <td>functional</td>\n",
       "    </tr>\n",
       "    <tr>\n",
       "      <th>...</th>\n",
       "      <td>...</td>\n",
       "      <td>...</td>\n",
       "    </tr>\n",
       "    <tr>\n",
       "      <th>14845</th>\n",
       "      <td>39307</td>\n",
       "      <td>non functional</td>\n",
       "    </tr>\n",
       "    <tr>\n",
       "      <th>14846</th>\n",
       "      <td>18990</td>\n",
       "      <td>functional</td>\n",
       "    </tr>\n",
       "    <tr>\n",
       "      <th>14847</th>\n",
       "      <td>28749</td>\n",
       "      <td>functional</td>\n",
       "    </tr>\n",
       "    <tr>\n",
       "      <th>14848</th>\n",
       "      <td>33492</td>\n",
       "      <td>functional</td>\n",
       "    </tr>\n",
       "    <tr>\n",
       "      <th>14849</th>\n",
       "      <td>68707</td>\n",
       "      <td>non functional</td>\n",
       "    </tr>\n",
       "  </tbody>\n",
       "</table>\n",
       "<p>14850 rows × 2 columns</p>\n",
       "</div>"
      ],
      "text/plain": [
       "          id    status_group\n",
       "0      50785  non functional\n",
       "1      51630      functional\n",
       "2      17168      functional\n",
       "3      45559  non functional\n",
       "4      49871      functional\n",
       "...      ...             ...\n",
       "14845  39307  non functional\n",
       "14846  18990      functional\n",
       "14847  28749      functional\n",
       "14848  33492      functional\n",
       "14849  68707  non functional\n",
       "\n",
       "[14850 rows x 2 columns]"
      ]
     },
     "execution_count": 24,
     "metadata": {},
     "output_type": "execute_result"
    }
   ],
   "source": [
    "preds = pd.concat([ID, pd.Series(final_preds, name = 'status_group')], axis=1)\n",
    "\n",
    "# Replace target values - there are three classes\n",
    "preds = preds.replace({'status_group': {1 : 'functional', \n",
    "                                        0 : 'non functional', \n",
    "                                        2 : 'functional needs repair'}})\n",
    "preds"
   ]
  },
  {
   "cell_type": "code",
   "execution_count": 25,
   "metadata": {},
   "outputs": [],
   "source": [
    "preds.to_csv('preds.csv', index = False)  "
   ]
  },
  {
   "cell_type": "markdown",
   "metadata": {},
   "source": [
    "# Save model"
   ]
  },
  {
   "cell_type": "code",
   "execution_count": 27,
   "metadata": {},
   "outputs": [],
   "source": [
    "pkl_filename = \"Model.pkl\"\n",
    "with open(pkl_filename, 'wb') as file:\n",
    "    pickle.dump(model, file)"
   ]
  }
 ],
 "metadata": {
  "kernelspec": {
   "display_name": "Python 3",
   "language": "python",
   "name": "python3"
  },
  "language_info": {
   "codemirror_mode": {
    "name": "ipython",
    "version": 3
   },
   "file_extension": ".py",
   "mimetype": "text/x-python",
   "name": "python",
   "nbconvert_exporter": "python",
   "pygments_lexer": "ipython3",
   "version": "3.8.5"
  }
 },
 "nbformat": 4,
 "nbformat_minor": 4
}
